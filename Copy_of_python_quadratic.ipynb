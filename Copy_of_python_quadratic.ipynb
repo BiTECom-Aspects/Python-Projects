{
  "cells": [
    {
      "cell_type": "markdown",
      "metadata": {
        "id": "view-in-github",
        "colab_type": "text"
      },
      "source": [
        "<a href=\"https://colab.research.google.com/github/BiTECom-Aspects/Python-Projects/blob/main/Copy_of_python_quadratic.ipynb\" target=\"_parent\"><img src=\"https://colab.research.google.com/assets/colab-badge.svg\" alt=\"Open In Colab\"/></a>"
      ]
    },
    {
      "cell_type": "code",
      "execution_count": null,
      "metadata": {
        "colab": {
          "base_uri": "https://localhost:8080/"
        },
        "id": "hdzQoEzixQyw",
        "outputId": "cb8d33cf-a154-49e8-bd7b-d5b104d33909"
      },
      "outputs": [
        {
          "output_type": "stream",
          "name": "stdout",
          "text": [
            "Enter a number\n",
            "2\n",
            "Enter a Number\n",
            "5\n",
            "Enter a Number\n",
            "9\n",
            "Output 1 is\n",
            "(-1.25+1.713913650100261j)\n",
            "Output 2 is\n",
            "(-1.25-1.713913650100261j)\n"
          ]
        }
      ],
      "source": [
        "\n",
        "import cmath as cm\n",
        "#import cmath to perform...math...\n",
        "\n",
        "print(\"Enter a number\") #prints \"Enter a number\"\n",
        "a=float(input())        #followed by an input box\n",
        "print(\"Enter a Number\") #enter the input and the process continues\n",
        "b=float(input())\n",
        "print(\"Enter a Number\")\n",
        "c=float(input())  #last input\n",
        "def quadratic(a,b,c): #now the program runs the inputs into the quadratic\n",
        "\n",
        "  d=cm.sqrt((b**2)-(4*a*c))\n",
        "  x1=(-b+d)/(2*a)\n",
        "  x2=(-b-d)/(2*a)\n",
        "  return x1,x2 #feeds the values back to the computer\n",
        "\n",
        "x1,x2=quadratic(a,b,c) #calls the values back so they may print\n",
        "print(\"Output 1 is\")\n",
        "print(x1)\n",
        "print(\"Output 2 is\")\n",
        "print(x2) #These statements/values will be printed on each successive line\n"
      ]
    }
  ],
  "metadata": {
    "colab": {
      "provenance": [],
      "authorship_tag": "ABX9TyNE2nt/uGzJ8r6dJKZkIrPA",
      "include_colab_link": true
    },
    "kernelspec": {
      "display_name": "Python 3",
      "name": "python3"
    },
    "language_info": {
      "name": "python"
    }
  },
  "nbformat": 4,
  "nbformat_minor": 0
}